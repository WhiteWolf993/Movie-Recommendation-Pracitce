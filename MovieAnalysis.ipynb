{
 "cells": [
  {
   "cell_type": "markdown",
   "metadata": {},
   "source": [
    "## Movie Recommendation Analysis"
   ]
  },
  {
   "cell_type": "markdown",
   "metadata": {},
   "source": [
    "#### Loading the Datasets"
   ]
  },
  {
   "cell_type": "code",
   "execution_count": 1,
   "metadata": {},
   "outputs": [],
   "source": [
    "import pandas as pd\n",
    "movies = pd.read_csv('movies.csv')\n",
    "ratings = pd.read_csv('ratings.csv')"
   ]
  },
  {
   "cell_type": "markdown",
   "metadata": {},
   "source": [
    "#### Inspecting Data"
   ]
  },
  {
   "cell_type": "code",
   "execution_count": 2,
   "metadata": {},
   "outputs": [
    {
     "name": "stdout",
     "output_type": "stream",
     "text": [
      "   movieId                               title  \\\n",
      "0        1                    Toy Story (1995)   \n",
      "1        2                      Jumanji (1995)   \n",
      "2        3             Grumpier Old Men (1995)   \n",
      "3        4            Waiting to Exhale (1995)   \n",
      "4        5  Father of the Bride Part II (1995)   \n",
      "\n",
      "                                        genres  \n",
      "0  Adventure|Animation|Children|Comedy|Fantasy  \n",
      "1                   Adventure|Children|Fantasy  \n",
      "2                               Comedy|Romance  \n",
      "3                         Comedy|Drama|Romance  \n",
      "4                                       Comedy  \n",
      "   userId  movieId  rating  timestamp\n",
      "0       1       17     4.0  944249077\n",
      "1       1       25     1.0  944250228\n",
      "2       1       29     2.0  943230976\n",
      "3       1       30     5.0  944249077\n",
      "4       1       32     5.0  943228858\n"
     ]
    }
   ],
   "source": [
    "#Inspect first few rows of the dataset\n",
    "print(movies.head())\n",
    "print(ratings.head())"
   ]
  },
  {
   "cell_type": "code",
   "execution_count": 3,
   "metadata": {},
   "outputs": [
    {
     "name": "stdout",
     "output_type": "stream",
     "text": [
      "<class 'pandas.core.frame.DataFrame'>\n",
      "RangeIndex: 87585 entries, 0 to 87584\n",
      "Data columns (total 3 columns):\n",
      " #   Column   Non-Null Count  Dtype \n",
      "---  ------   --------------  ----- \n",
      " 0   movieId  87585 non-null  int64 \n",
      " 1   title    87585 non-null  object\n",
      " 2   genres   87585 non-null  object\n",
      "dtypes: int64(1), object(2)\n",
      "memory usage: 2.0+ MB\n",
      "None\n",
      "<class 'pandas.core.frame.DataFrame'>\n",
      "RangeIndex: 32000204 entries, 0 to 32000203\n",
      "Data columns (total 4 columns):\n",
      " #   Column     Dtype  \n",
      "---  ------     -----  \n",
      " 0   userId     int64  \n",
      " 1   movieId    int64  \n",
      " 2   rating     float64\n",
      " 3   timestamp  int64  \n",
      "dtypes: float64(1), int64(3)\n",
      "memory usage: 976.6 MB\n",
      "None\n"
     ]
    }
   ],
   "source": [
    "#Get an overview of data types and null values\n",
    "print(movies.info())\n",
    "print(ratings.info())"
   ]
  },
  {
   "cell_type": "code",
   "execution_count": 4,
   "metadata": {},
   "outputs": [
    {
     "name": "stdout",
     "output_type": "stream",
     "text": [
      "Duplicate rows in movies: 0\n",
      "Duplicated rows in ratings: 0\n"
     ]
    }
   ],
   "source": [
    "#Check for duplicated rows\n",
    "print(f\"Duplicate rows in movies: {movies.duplicated().sum()}\") \n",
    "print(f\"Duplicated rows in ratings: {ratings.duplicated().sum()}\")"
   ]
  },
  {
   "cell_type": "code",
   "execution_count": 5,
   "metadata": {},
   "outputs": [
    {
     "name": "stdout",
     "output_type": "stream",
     "text": [
      "Movies dataset size before removing duplicates: (87585, 3)\n",
      "Ratings dataset size before removing duplicates: (32000204, 4)\n"
     ]
    }
   ],
   "source": [
    "#Shape before changes\n",
    "print(f\"Movies dataset size before removing duplicates: {movies.shape}\")\n",
    "print(f\"Ratings dataset size before removing duplicates: {ratings.shape}\")"
   ]
  },
  {
   "cell_type": "markdown",
   "metadata": {},
   "source": [
    "#### Data Cleaning"
   ]
  },
  {
   "cell_type": "markdown",
   "metadata": {},
   "source": [
    "Checking for missing values"
   ]
  },
  {
   "cell_type": "code",
   "execution_count": 6,
   "metadata": {},
   "outputs": [
    {
     "name": "stdout",
     "output_type": "stream",
     "text": [
      "movieId    0\n",
      "title      0\n",
      "genres     0\n",
      "dtype: int64\n",
      "userId       0\n",
      "movieId      0\n",
      "rating       0\n",
      "timestamp    0\n",
      "dtype: int64\n"
     ]
    }
   ],
   "source": [
    "#Check for null values\n",
    "print(movies.isnull().sum())\n",
    "print(ratings.isnull().sum())"
   ]
  },
  {
   "cell_type": "code",
   "execution_count": 7,
   "metadata": {},
   "outputs": [],
   "source": [
    "#Drop rows with null values\n",
    "movies.dropna(inplace=True)\n",
    "ratings.dropna(inplace=True)"
   ]
  },
  {
   "cell_type": "markdown",
   "metadata": {},
   "source": [
    "Remove Duplicates"
   ]
  },
  {
   "cell_type": "code",
   "execution_count": 8,
   "metadata": {},
   "outputs": [
    {
     "name": "stdout",
     "output_type": "stream",
     "text": [
      "Movies dataset size after removing duplicates: (87585, 3)\n",
      "Ratings dataset size after removing duplicates: (32000204, 4)\n"
     ]
    }
   ],
   "source": [
    "movies.drop_duplicates(inplace=True)\n",
    "ratings.drop_duplicates(inplace=True)\n",
    "\n",
    "#Veryfying changes\n",
    "print(f\"Movies dataset size after removing duplicates: {movies.shape}\")\n",
    "print(f\"Ratings dataset size after removing duplicates: {ratings.shape}\")"
   ]
  },
  {
   "cell_type": "markdown",
   "metadata": {},
   "source": [
    "Summary of Cleaned Data"
   ]
  },
  {
   "cell_type": "code",
   "execution_count": 9,
   "metadata": {},
   "outputs": [
    {
     "name": "stdout",
     "output_type": "stream",
     "text": [
      "<class 'pandas.core.frame.DataFrame'>\n",
      "RangeIndex: 87585 entries, 0 to 87584\n",
      "Data columns (total 3 columns):\n",
      " #   Column   Non-Null Count  Dtype \n",
      "---  ------   --------------  ----- \n",
      " 0   movieId  87585 non-null  int64 \n",
      " 1   title    87585 non-null  object\n",
      " 2   genres   87585 non-null  object\n",
      "dtypes: int64(1), object(2)\n",
      "memory usage: 2.0+ MB\n",
      "None\n",
      "<class 'pandas.core.frame.DataFrame'>\n",
      "RangeIndex: 32000204 entries, 0 to 32000203\n",
      "Data columns (total 4 columns):\n",
      " #   Column     Dtype  \n",
      "---  ------     -----  \n",
      " 0   userId     int64  \n",
      " 1   movieId    int64  \n",
      " 2   rating     float64\n",
      " 3   timestamp  int64  \n",
      "dtypes: float64(1), int64(3)\n",
      "memory usage: 976.6 MB\n",
      "None\n",
      "Number of unique movies: 87585\n",
      "Number of unique users: 200948\n"
     ]
    }
   ],
   "source": [
    "print(movies.info())\n",
    "print(ratings.info())\n",
    "print(f\"Number of unique movies: {movies['movieId'].nunique()}\")\n",
    "print(f\"Number of unique users: {ratings['userId'].nunique()}\")"
   ]
  },
  {
   "cell_type": "markdown",
   "metadata": {},
   "source": [
    "### Exploratory Data Analysis"
   ]
  },
  {
   "cell_type": "markdown",
   "metadata": {},
   "source": [
    "Distribution of Ratings"
   ]
  },
  {
   "cell_type": "code",
   "execution_count": 10,
   "metadata": {},
   "outputs": [
    {
     "data": {
      "image/png": "[encoded data removed]",
      "text/plain": [
       "<Figure size 800x500 with 1 Axes>"
      ]
     },
     "metadata": {},
     "output_type": "display_data"
    }
   ],
   "source": [
    "import matplotlib.pyplot as plt\n",
    "import seaborn as sns\n",
    "\n",
    "#Plot distribution of ratings\n",
    "plt.figure(figsize=(8,5)) #Set figure size (width, height)\n",
    "sns.histplot(ratings['rating'], bins=10, kde=False) #Creates histogram of ratings\n",
    "plt.title('Distribution of Movie Ratings') #Title\n",
    "plt.xlabel('Rating')\n",
    "plt.ylabel('Count')\n",
    "plt.show()"
   ]
  },
  {
   "cell_type": "markdown",
   "metadata": {},
   "source": [
    "Most Rated Movies"
   ]
  },
  {
   "cell_type": "code",
   "execution_count": 11,
   "metadata": {},
   "outputs": [
    {
     "name": "stdout",
     "output_type": "stream",
     "text": [
      "      movieId                                              title\n",
      "257       260          Star Wars: Episode IV - A New Hope (1977)\n",
      "292       296                                Pulp Fiction (1994)\n",
      "314       318                   Shawshank Redemption, The (1994)\n",
      "351       356                                Forrest Gump (1994)\n",
      "475       480                               Jurassic Park (1993)\n",
      "522       527                            Schindler's List (1993)\n",
      "585       593                   Silence of the Lambs, The (1991)\n",
      "2480     2571                                 Matrix, The (1999)\n",
      "2867     2959                                  Fight Club (1999)\n",
      "4888     4993  Lord of the Rings: The Fellowship of the Ring,...\n"
     ]
    }
   ],
   "source": [
    "# Count ratings for each movie\n",
    "rating_counts = ratings.groupby('movieId')['rating'].count().sort_values(ascending=False) \n",
    "\n",
    "# Display top 10 most-rated movies\n",
    "top_rated_movies = movies[movies['movieId'].isin(rating_counts.head(10).index)]\n",
    "print(top_rated_movies[['movieId', 'title']])\n"
   ]
  },
  {
   "cell_type": "markdown",
   "metadata": {},
   "source": [
    "Average Ratings"
   ]
  },
  {
   "cell_type": "code",
   "execution_count": 12,
   "metadata": {},
   "outputs": [
    {
     "name": "stdout",
     "output_type": "stream",
     "text": [
      "                                     title  average_rating\n",
      "movieId                                                   \n",
      "282081                      Shadows (2023)             5.0\n",
      "282073                   Mal de Ojo (2022)             5.0\n",
      "282021      Mr. Krueger's Christmas (1980)             5.0\n",
      "282019        It's a Wonderful Life (2007)             5.0\n",
      "193529              Traces of Smoke (1992)             5.0\n",
      "193557            Love Pret-a-porte (2017)             5.0\n",
      "194066   The Revolution That Wasn't (2008)             5.0\n",
      "193727                Still Burning (2016)             5.0\n",
      "281956                      ManFish (2022)             5.0\n",
      "281902           Going Varsity In Mariachi             5.0\n"
     ]
    }
   ],
   "source": [
    "# Calculate average rating\n",
    "average_ratings = ratings.groupby('movieId')['rating'].mean()\n",
    "\n",
    "# Combine average ratings with movie titles\n",
    "movie_avg_ratings = movies.set_index('movieId').join(average_ratings.rename('average_rating'))\n",
    "print(movie_avg_ratings[['title', 'average_rating']].sort_values(by='average_rating', ascending=False).head(10))\n"
   ]
  },
  {
   "cell_type": "markdown",
   "metadata": {},
   "source": [
    "Ratings by Genre"
   ]
  },
  {
   "cell_type": "code",
   "execution_count": 13,
   "metadata": {},
   "outputs": [
    {
     "name": "stdout",
     "output_type": "stream",
     "text": [
      "genres\n",
      "Adventure|Children|Comedy|Romance                 5.00\n",
      "Adventure|Animation|Documentary|Fantasy           5.00\n",
      "Adventure|Drama|Romance|War|Western               5.00\n",
      "Adventure|Drama|Fantasy|Horror|Thriller           5.00\n",
      "Children|Comedy|Documentary                       5.00\n",
      "                                                  ... \n",
      "Drama|Fantasy|Horror|Romance|Sci-Fi|Thriller      0.75\n",
      "Action|Comedy|Horror|Romance                      0.50\n",
      "Action|Adventure|Drama|Horror|Mystery|Thriller    0.50\n",
      "Adventure|Fantasy|Horror|Mystery|Thriller         0.50\n",
      "Action|Adventure|Comedy|Horror|Sci-Fi             0.50\n",
      "Name: rating, Length: 1783, dtype: float64\n"
     ]
    }
   ],
   "source": [
    "# Explode genres into individual rows\n",
    "movies_exploded = movies.explode('genres')\n",
    "\n",
    "# Merge with ratings and calculate average ratings by genre\n",
    "genre_ratings = pd.merge(ratings, movies_exploded, on='movieId')\n",
    "average_genre_ratings = genre_ratings.groupby('genres')['rating'].mean().sort_values(ascending=False)\n",
    "print(average_genre_ratings)\n"
   ]
  },
  {
   "cell_type": "markdown",
   "metadata": {},
   "source": [
    "### Recommendation System"
   ]
  },
  {
   "cell_type": "markdown",
   "metadata": {},
   "source": [
    "Popularity-Based Recommendation"
   ]
  },
  {
   "cell_type": "code",
   "execution_count": 14,
   "metadata": {},
   "outputs": [
    {
     "name": "stdout",
     "output_type": "stream",
     "text": [
      "                                    title  average_rating\n",
      "movieId                                                  \n",
      "171011             Planet Earth II (2016)        4.446830\n",
      "159817                Planet Earth (2006)        4.444369\n",
      "170705            Band of Brothers (2001)        4.426539\n",
      "318      Shawshank Redemption, The (1994)        4.404614\n",
      "171495                             Cosmos        4.330081\n",
      "858                 Godfather, The (1972)        4.317030\n",
      "202439                    Parasite (2019)        4.312254\n",
      "179135              Blue Planet II (2017)        4.300086\n",
      "198185                  Twin Peaks (1989)        4.298684\n",
      "220528            Twelve Angry Men (1954)        4.286192\n"
     ]
    }
   ],
   "source": [
    "# Set a threshold for the minimum number of ratings\n",
    "min_ratings = 50\n",
    "\n",
    "# Filter movies with enough ratings\n",
    "popular_movies = ratings.groupby('movieId').filter(lambda x: len(x) >= min_ratings)\n",
    "\n",
    "# Calculate average ratings for these movies\n",
    "popular_movies_avg = popular_movies.groupby('movieId')['rating'].mean()\n",
    "\n",
    "# Combine with movie titles\n",
    "popular_movies_df = movies.set_index('movieId').join(popular_movies_avg.rename('average_rating'))\n",
    "recommended_movies = popular_movies_df.sort_values(by='average_rating', ascending=False).head(10)\n",
    "\n",
    "print(recommended_movies[['title', 'average_rating']])\n"
   ]
  },
  {
   "cell_type": "markdown",
   "metadata": {},
   "source": [
    "Genre-Based Recommendation"
   ]
  },
  {
   "cell_type": "code",
   "execution_count": 15,
   "metadata": {},
   "outputs": [
    {
     "name": "stdout",
     "output_type": "stream",
     "text": [
      "                                                     title  average_rating\n",
      "movieId                                                                   \n",
      "291300                                     Decision (2011)             5.0\n",
      "278764                                     Theevram (2012)             5.0\n",
      "276711                 The Great Warrior Skanderbeg (1953)             5.0\n",
      "170855                                   Bus Driver (2016)             5.0\n",
      "277624                                       Payoff (1991)             5.0\n",
      "162734                              Sole Proprietor (2016)             5.0\n",
      "272463   Princess Principal Crown Handler: Chapter 2 (2...             5.0\n",
      "186535                          The Brooklyn Banker (2016)             5.0\n",
      "275667                   Revue Starlight: The Movie (2021)             5.0\n",
      "169820                               To Be the Best (1993)             5.0\n"
     ]
    }
   ],
   "source": [
    "# Choose a genre\n",
    "genre = 'Action'\n",
    "\n",
    "# Filter movies by genre\n",
    "action_movies = movies[movies['genres'].apply(lambda x: genre in x)]\n",
    "\n",
    "# Merge with average ratings\n",
    "action_movies_ratings = action_movies.set_index('movieId').join(average_ratings.rename('average_rating'))\n",
    "\n",
    "# Recommend top-rated action movies\n",
    "recommended_action_movies = action_movies_ratings.sort_values(by='average_rating', ascending=False).head(10)\n",
    "\n",
    "print(recommended_action_movies[['title', 'average_rating']])\n"
   ]
  },
  {
   "cell_type": "markdown",
   "metadata": {},
   "source": [
    "Visualizing the results"
   ]
  },
  {
   "cell_type": "code",
   "execution_count": 16,
   "metadata": {},
   "outputs": [
    {
     "data": {
      "image/png": "[encoded data removed]",
      "text/plain": [
       "<Figure size 800x500 with 1 Axes>"
      ]
     },
     "metadata": {},
     "output_type": "display_data"
    }
   ],
   "source": [
    "# Plot the top-rated movies\n",
    "plt.figure(figsize=(8, 5))\n",
    "recommended_movies['average_rating'].plot(kind='bar')\n",
    "plt.title('Top 10 Highly Rated Movies')\n",
    "plt.xlabel('Movie Title')\n",
    "plt.ylabel('Average Rating')\n",
    "plt.show()"
   ]
  },
  {
   "cell_type": "markdown",
   "metadata": {},
   "source": [
    "#### Author\n",
    "Ujaan Banerjee"
   ]
  }
 ],
 "metadata": {
  "kernelspec": {
   "display_name": "Python 3",
   "language": "python",
   "name": "python3"
  },
  "language_info": {
   "codemirror_mode": {
    "name": "ipython",
    "version": 3
   },
   "file_extension": ".py",
   "mimetype": "text/x-python",
   "name": "python",
   "nbconvert_exporter": "python",
   "pygments_lexer": "ipython3",
   "version": "3.12.0"
  }
 },
 "nbformat": 4,
 "nbformat_minor": 2
}
