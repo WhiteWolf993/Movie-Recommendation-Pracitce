{
 "cells": [
  {
   "cell_type": "markdown",
   "metadata": {},
   "source": [
    "## Movie Recommendation Analysis"
   ]
  },
  {
   "cell_type": "markdown",
   "metadata": {},
   "source": [
    "#### Loading the Datasets"
   ]
  },
  {
   "cell_type": "code",
   "execution_count": 1,
   "metadata": {},
   "outputs": [],
   "source": [
    "import pandas as pd\n",
    "movies = pd.read_csv('movies.csv')\n",
    "ratings = pd.read_csv('ratings.csv')"
   ]
  },
  {
   "cell_type": "markdown",
   "metadata": {},
   "source": [
    "#### Inspecting Data"
   ]
  },
  {
   "cell_type": "code",
   "execution_count": null,
   "metadata": {},
   "outputs": [],
   "source": [
    "#Inspect first few rows of the dataset\n",
    "print(movies.head())\n",
    "print(ratings.head())"
   ]
  },
  {
   "cell_type": "code",
   "execution_count": null,
   "metadata": {},
   "outputs": [],
   "source": [
    "#Get an overview of data types and null values\n",
    "print(movies.info())\n",
    "print(ratings.info())"
   ]
  },
  {
   "cell_type": "code",
   "execution_count": 12,
   "metadata": {},
   "outputs": [
    {
     "name": "stdout",
     "output_type": "stream",
     "text": [
      "Duplicate rows in movies: 0\n",
      "Duplicated rows in ratings: 0\n"
     ]
    }
   ],
   "source": [
    "#Check for duplicated rows\n",
    "print(f\"Duplicate rows in movies: {movies.duplicated().sum()}\") \n",
    "print(f\"Duplicated rows in ratings: {ratings.duplicated().sum()}\")"
   ]
  },
  {
   "cell_type": "code",
   "execution_count": 7,
   "metadata": {},
   "outputs": [
    {
     "name": "stdout",
     "output_type": "stream",
     "text": [
      "Movies dataset size before removing duplicates: (87585, 3)\n",
      "Ratings dataset size before removing duplicates: (32000204, 4)\n"
     ]
    }
   ],
   "source": [
    "#Shape before changes\n",
    "print(f\"Movies dataset size before removing duplicates: {movies.shape}\")\n",
    "print(f\"Ratings dataset size before removing duplicates: {ratings.shape}\")"
   ]
  },
  {
   "cell_type": "markdown",
   "metadata": {},
   "source": [
    "#### Data Cleaning"
   ]
  },
  {
   "cell_type": "markdown",
   "metadata": {},
   "source": [
    "Checking for missing values"
   ]
  },
  {
   "cell_type": "code",
   "execution_count": null,
   "metadata": {},
   "outputs": [],
   "source": [
    "#Check for null values\n",
    "print(movies.isnull().sum())\n",
    "print(ratings.isnull().sum())"
   ]
  },
  {
   "cell_type": "code",
   "execution_count": 4,
   "metadata": {},
   "outputs": [],
   "source": [
    "#Drop rows with null values\n",
    "movies.dropna(inplace=True)\n",
    "ratings.dropna(inplace=True)"
   ]
  },
  {
   "cell_type": "markdown",
   "metadata": {},
   "source": [
    "Remove Duplicates"
   ]
  },
  {
   "cell_type": "code",
   "execution_count": null,
   "metadata": {},
   "outputs": [],
   "source": [
    "movies.drop_duplicates(inplace=True)\n",
    "ratings.drop_duplicates(inplace=True)\n",
    "\n",
    "#Veryfying changes\n",
    "print(f\"Movies dataset size after removing duplicates: {movies.shape}\")\n",
    "print(f\"Ratings dataset size after removing duplicates: {ratings.shape}\")"
   ]
  },
  {
   "cell_type": "markdown",
   "metadata": {},
   "source": [
    "Summary of Cleaned Data"
   ]
  },
  {
   "cell_type": "code",
   "execution_count": null,
   "metadata": {},
   "outputs": [],
   "source": [
    "print(movies.info())\n",
    "print(ratings.info())\n",
    "print(f\"Number of unique movies: {movies['movieId'].nunique()}\")\n",
    "print(f\"Number of unique users: {ratings['userId'].nunique()}\")"
   ]
  },
  {
   "cell_type": "markdown",
   "metadata": {},
   "source": [
    "### Exploratory Data Analysis"
   ]
  },
  {
   "cell_type": "markdown",
   "metadata": {},
   "source": [
    "Distribution of Ratings"
   ]
  },
  {
   "cell_type": "code",
   "execution_count": null,
   "metadata": {},
   "outputs": [],
   "source": [
    "import matplotlib.pyplot as plt\n",
    "import seaborn as sns\n",
    "\n",
    "#Plot distribution of ratings\n",
    "plt.figure(figsize=(8,5)) #Set figure size (width, height)\n",
    "sns.histplot(ratings['rating'], bins=10, kde=False) #Creates histogram of ratings\n",
    "plt.title('Distribution of Movie Ratings') #Title\n",
    "plt.xlabel('Rating')\n",
    "plt.ylabel('Count')\n",
    "plt.show()"
   ]
  },
  {
   "cell_type": "markdown",
   "metadata": {},
   "source": [
    "Most Rated Movies"
   ]
  },
  {
   "cell_type": "code",
   "execution_count": null,
   "metadata": {},
   "outputs": [],
   "source": [
    "# Count ratings for each movie\n",
    "rating_counts = ratings.groupby('movieId')['rating'].count().sort_values(ascending=False) \n",
    "\n",
    "# Display top 10 most-rated movies\n",
    "top_rated_movies = movies[movies['movieId'].isin(rating_counts.head(10).index)]\n",
    "print(top_rated_movies[['movieId', 'title']])\n"
   ]
  },
  {
   "cell_type": "markdown",
   "metadata": {},
   "source": [
    "Average Ratings"
   ]
  },
  {
   "cell_type": "code",
   "execution_count": null,
   "metadata": {},
   "outputs": [],
   "source": [
    "# Calculate average rating\n",
    "average_ratings = ratings.groupby('movieId')['rating'].mean()\n",
    "\n",
    "# Combine average ratings with movie titles\n",
    "movie_avg_ratings = movies.set_index('movieId').join(average_ratings.rename('average_rating'))\n",
    "print(movie_avg_ratings[['title', 'average_rating']].sort_values(by='average_rating', ascending=False).head(10))\n"
   ]
  },
  {
   "cell_type": "markdown",
   "metadata": {},
   "source": [
    "Ratings by Genre"
   ]
  },
  {
   "cell_type": "code",
   "execution_count": null,
   "metadata": {},
   "outputs": [],
   "source": [
    "# Explode genres into individual rows\n",
    "movies_exploded = movies.explode('genres')\n",
    "\n",
    "# Merge with ratings and calculate average ratings by genre\n",
    "genre_ratings = pd.merge(ratings, movies_exploded, on='movieId')\n",
    "average_genre_ratings = genre_ratings.groupby('genres')['rating'].mean().sort_values(ascending=False)\n",
    "print(average_genre_ratings)\n"
   ]
  },
  {
   "cell_type": "markdown",
   "metadata": {},
   "source": [
    "### Recommendation System"
   ]
  },
  {
   "cell_type": "markdown",
   "metadata": {},
   "source": [
    "Popularity-Based Recommendation"
   ]
  },
  {
   "cell_type": "code",
   "execution_count": null,
   "metadata": {},
   "outputs": [],
   "source": [
    "# Set a threshold for the minimum number of ratings\n",
    "min_ratings = 50\n",
    "\n",
    "# Filter movies with enough ratings\n",
    "popular_movies = ratings.groupby('movieId').filter(lambda x: len(x) >= min_ratings)\n",
    "\n",
    "# Calculate average ratings for these movies\n",
    "popular_movies_avg = popular_movies.groupby('movieId')['rating'].mean()\n",
    "\n",
    "# Combine with movie titles\n",
    "popular_movies_df = movies.set_index('movieId').join(popular_movies_avg.rename('average_rating'))\n",
    "recommended_movies = popular_movies_df.sort_values(by='average_rating', ascending=False).head(10)\n",
    "\n",
    "print(recommended_movies[['title', 'average_rating']])\n"
   ]
  },
  {
   "cell_type": "markdown",
   "metadata": {},
   "source": [
    "Genre-Based Recommendation"
   ]
  },
  {
   "cell_type": "code",
   "execution_count": null,
   "metadata": {},
   "outputs": [],
   "source": [
    "# Choose a genre\n",
    "genre = 'Action'\n",
    "\n",
    "# Filter movies by genre\n",
    "action_movies = movies[movies['genres'].apply(lambda x: genre in x)]\n",
    "\n",
    "# Merge with average ratings\n",
    "action_movies_ratings = action_movies.set_index('movieId').join(average_ratings.rename('average_rating'))\n",
    "\n",
    "# Recommend top-rated action movies\n",
    "recommended_action_movies = action_movies_ratings.sort_values(by='average_rating', ascending=False).head(10)\n",
    "\n",
    "print(recommended_action_movies[['title', 'average_rating']])\n"
   ]
  },
  {
   "cell_type": "markdown",
   "metadata": {},
   "source": [
    "Visualizing the results"
   ]
  },
  {
   "cell_type": "code",
   "execution_count": null,
   "metadata": {},
   "outputs": [],
   "source": [
    "# Plot the top-rated movies\n",
    "plt.figure(figsize=(8, 5))\n",
    "recommended_movies['average_rating'].plot(kind='bar')\n",
    "plt.title('Top 10 Highly Rated Movies')\n",
    "plt.xlabel('Movie Title')\n",
    "plt.ylabel('Average Rating')\n",
    "plt.show()"
   ]
  },
  {
   "cell_type": "markdown",
   "metadata": {},
   "source": [
    "#### Author\n",
    "Ujaan Banerjee"
   ]
  }
 ],
 "metadata": {
  "kernelspec": {
   "display_name": "Python 3",
   "language": "python",
   "name": "python3"
  },
  "language_info": {
   "codemirror_mode": {
    "name": "ipython",
    "version": 3
   },
   "file_extension": ".py",
   "mimetype": "text/x-python",
   "name": "python",
   "nbconvert_exporter": "python",
   "pygments_lexer": "ipython3",
   "version": "3.12.0"
  }
 },
 "nbformat": 4,
 "nbformat_minor": 2
}
